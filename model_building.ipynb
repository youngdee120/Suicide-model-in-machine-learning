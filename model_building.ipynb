{
 "cells": [
  {
   "cell_type": "code",
   "execution_count": 1,
   "id": "0106f89e",
   "metadata": {},
   "outputs": [],
   "source": [
    "import numpy as np\n",
    "import pandas as pd\n",
    "import matplotlib.pyplot as plt"
   ]
  },
  {
   "cell_type": "code",
   "execution_count": 2,
   "id": "ef1d9033",
   "metadata": {},
   "outputs": [],
   "source": [
    "data = pd.read_csv('file1.csv')"
   ]
  },
  {
   "cell_type": "code",
   "execution_count": 3,
   "id": "4f9cf823",
   "metadata": {},
   "outputs": [
    {
     "data": {
      "text/html": [
       "<div>\n",
       "<style scoped>\n",
       "    .dataframe tbody tr th:only-of-type {\n",
       "        vertical-align: middle;\n",
       "    }\n",
       "\n",
       "    .dataframe tbody tr th {\n",
       "        vertical-align: top;\n",
       "    }\n",
       "\n",
       "    .dataframe thead th {\n",
       "        text-align: right;\n",
       "    }\n",
       "</style>\n",
       "<table border=\"1\" class=\"dataframe\">\n",
       "  <thead>\n",
       "    <tr style=\"text-align: right;\">\n",
       "      <th></th>\n",
       "      <th>Unnamed: 0</th>\n",
       "      <th>text</th>\n",
       "      <th>class</th>\n",
       "    </tr>\n",
       "  </thead>\n",
       "  <tbody>\n",
       "    <tr>\n",
       "      <th>0</th>\n",
       "      <td>74414</td>\n",
       "      <td>dont know7 month self harm free urg get strong...</td>\n",
       "      <td>suicide</td>\n",
       "    </tr>\n",
       "    <tr>\n",
       "      <th>1</th>\n",
       "      <td>149516</td>\n",
       "      <td>start becom rich start compani becom 16 afford...</td>\n",
       "      <td>non-suicide</td>\n",
       "    </tr>\n",
       "    <tr>\n",
       "      <th>2</th>\n",
       "      <td>12484</td>\n",
       "      <td>poem haiku umegamedev hi hello hello stop fuck...</td>\n",
       "      <td>non-suicide</td>\n",
       "    </tr>\n",
       "    <tr>\n",
       "      <th>3</th>\n",
       "      <td>14043</td>\n",
       "      <td>ive honestli got idea anymoreit feel everyon f...</td>\n",
       "      <td>suicide</td>\n",
       "    </tr>\n",
       "    <tr>\n",
       "      <th>4</th>\n",
       "      <td>30673</td>\n",
       "      <td>ever cri like think unfair life cri cant cri e...</td>\n",
       "      <td>non-suicide</td>\n",
       "    </tr>\n",
       "  </tbody>\n",
       "</table>\n",
       "</div>"
      ],
      "text/plain": [
       "   Unnamed: 0                                               text        class\n",
       "0       74414  dont know7 month self harm free urg get strong...      suicide\n",
       "1      149516  start becom rich start compani becom 16 afford...  non-suicide\n",
       "2       12484  poem haiku umegamedev hi hello hello stop fuck...  non-suicide\n",
       "3       14043  ive honestli got idea anymoreit feel everyon f...      suicide\n",
       "4       30673  ever cri like think unfair life cri cant cri e...  non-suicide"
      ]
     },
     "execution_count": 3,
     "metadata": {},
     "output_type": "execute_result"
    }
   ],
   "source": [
    "data.head()"
   ]
  },
  {
   "cell_type": "code",
   "execution_count": 4,
   "id": "ef7e86b0-fc0a-493c-a2ac-440b47bde889",
   "metadata": {},
   "outputs": [],
   "source": [
    "# Convert the 'class' column to 0 and 1\n",
    "data['class'] = data['class'].map({'suicide': 1, 'non-suicide': 0})"
   ]
  },
  {
   "cell_type": "code",
   "execution_count": 5,
   "id": "777f3022-2dcb-4e2f-b5e2-fbc8f58018d8",
   "metadata": {},
   "outputs": [],
   "source": [
    "# Drop the 'Unnamed: 0' column\n",
    "data = data.drop(columns=['Unnamed: 0'])"
   ]
  },
  {
   "cell_type": "code",
   "execution_count": 6,
   "id": "bb0d1fd7-c77f-4a64-ad89-215d25f330d3",
   "metadata": {},
   "outputs": [
    {
     "name": "stdout",
     "output_type": "stream",
     "text": [
      "                                                text  class\n",
      "0  dont know7 month self harm free urg get strong...      1\n",
      "1  start becom rich start compani becom 16 afford...      0\n",
      "2  poem haiku umegamedev hi hello hello stop fuck...      0\n",
      "3  ive honestli got idea anymoreit feel everyon f...      1\n",
      "4  ever cri like think unfair life cri cant cri e...      0\n"
     ]
    }
   ],
   "source": [
    "# Check the modified DataFrame\n",
    "print(data.head())"
   ]
  },
  {
   "cell_type": "markdown",
   "id": "88607daa",
   "metadata": {},
   "source": [
    "## Data Preprocessing"
   ]
  },
  {
   "cell_type": "code",
   "execution_count": 7,
   "id": "bf9bf74a",
   "metadata": {},
   "outputs": [
    {
     "data": {
      "text/plain": [
       "(10000, 2)"
      ]
     },
     "execution_count": 7,
     "metadata": {},
     "output_type": "execute_result"
    }
   ],
   "source": [
    "data.shape"
   ]
  },
  {
   "cell_type": "code",
   "execution_count": 8,
   "id": "0bf7f538",
   "metadata": {},
   "outputs": [
    {
     "data": {
      "text/plain": [
       "1"
      ]
     },
     "execution_count": 8,
     "metadata": {},
     "output_type": "execute_result"
    }
   ],
   "source": [
    "data.duplicated().sum()"
   ]
  },
  {
   "cell_type": "code",
   "execution_count": 9,
   "id": "db77571d-fa34-4560-9f58-add930027de6",
   "metadata": {},
   "outputs": [],
   "source": [
    "# Drop duplicate rows\n",
    "data = data.drop_duplicates()"
   ]
  },
  {
   "cell_type": "code",
   "execution_count": 10,
   "id": "00d36240-f24b-4406-8420-2942a585234e",
   "metadata": {},
   "outputs": [
    {
     "data": {
      "text/plain": [
       "0"
      ]
     },
     "execution_count": 10,
     "metadata": {},
     "output_type": "execute_result"
    }
   ],
   "source": [
    "data.duplicated().sum()"
   ]
  },
  {
   "cell_type": "code",
   "execution_count": 11,
   "id": "dc8fb615",
   "metadata": {},
   "outputs": [
    {
     "data": {
      "text/plain": [
       "text     1\n",
       "class    0\n",
       "dtype: int64"
      ]
     },
     "execution_count": 11,
     "metadata": {},
     "output_type": "execute_result"
    }
   ],
   "source": [
    "data.isnull().sum()"
   ]
  },
  {
   "cell_type": "code",
   "execution_count": 14,
   "id": "fd37b9b1-f3a4-485b-b258-972bd05569d0",
   "metadata": {},
   "outputs": [],
   "source": [
    "# Drop rows with any null values\n",
    "data = data.dropna()"
   ]
  },
  {
   "cell_type": "code",
   "execution_count": 15,
   "id": "249cebd0-dc7f-4755-a1d8-67632e282d44",
   "metadata": {},
   "outputs": [
    {
     "data": {
      "text/plain": [
       "text     0\n",
       "class    0\n",
       "dtype: int64"
      ]
     },
     "execution_count": 15,
     "metadata": {},
     "output_type": "execute_result"
    }
   ],
   "source": [
    "data.isnull().sum()"
   ]
  },
  {
   "cell_type": "markdown",
   "id": "526c5fdd",
   "metadata": {},
   "source": [
    "### Text Preprocessing"
   ]
  },
  {
   "cell_type": "code",
   "execution_count": 16,
   "id": "ed9f67a1",
   "metadata": {},
   "outputs": [],
   "source": [
    "import re\n",
    "import string"
   ]
  },
  {
   "cell_type": "code",
   "execution_count": 17,
   "id": "7081e709",
   "metadata": {},
   "outputs": [
    {
     "data": {
      "text/plain": [
       "0    dont know7 month self harm free urg get strong...\n",
       "1    start becom rich start compani becom 16 afford...\n",
       "2    poem haiku umegamedev hi hello hello stop fuck...\n",
       "3    ive honestli got idea anymoreit feel everyon f...\n",
       "4    ever cri like think unfair life cri cant cri e...\n",
       "Name: text, dtype: object"
      ]
     },
     "execution_count": 17,
     "metadata": {},
     "output_type": "execute_result"
    }
   ],
   "source": [
    "data[\"text\"].head(5)"
   ]
  },
  {
   "cell_type": "markdown",
   "id": "6cca92c5",
   "metadata": {},
   "source": [
    "### Convert uppercase to lowercase"
   ]
  },
  {
   "cell_type": "code",
   "execution_count": 18,
   "id": "cbc9bf0c",
   "metadata": {},
   "outputs": [],
   "source": [
    "data[\"text\"] = data[\"text\"].apply(lambda x: \" \".join(x.lower() for x in x.split()))"
   ]
  },
  {
   "cell_type": "code",
   "execution_count": 20,
   "id": "af217a80",
   "metadata": {},
   "outputs": [
    {
     "data": {
      "text/plain": [
       "0    dont know7 month self harm free urg get strong...\n",
       "1    start becom rich start compani becom 16 afford...\n",
       "2    poem haiku umegamedev hi hello hello stop fuck...\n",
       "3    ive honestli got idea anymoreit feel everyon f...\n",
       "4    ever cri like think unfair life cri cant cri e...\n",
       "Name: text, dtype: object"
      ]
     },
     "execution_count": 20,
     "metadata": {},
     "output_type": "execute_result"
    }
   ],
   "source": [
    "data[\"text\"].head(5)"
   ]
  },
  {
   "cell_type": "markdown",
   "id": "eed5a9b9",
   "metadata": {},
   "source": [
    "### Remove links"
   ]
  },
  {
   "cell_type": "code",
   "execution_count": 21,
   "id": "3c08a450",
   "metadata": {},
   "outputs": [],
   "source": [
    "data[\"text\"] = data['text'].apply(lambda x: \" \".join(re.sub(r'^https?:\\/\\/.*[\\r\\n]*', '', x, flags=re.MULTILINE) for x in x.split()))"
   ]
  },
  {
   "cell_type": "code",
   "execution_count": 22,
   "id": "8515c536",
   "metadata": {},
   "outputs": [
    {
     "data": {
      "text/plain": [
       "0    dont know7 month self harm free urg get strong...\n",
       "1    start becom rich start compani becom 16 afford...\n",
       "2    poem haiku umegamedev hi hello hello stop fuck...\n",
       "3    ive honestli got idea anymoreit feel everyon f...\n",
       "4    ever cri like think unfair life cri cant cri e...\n",
       "Name: text, dtype: object"
      ]
     },
     "execution_count": 22,
     "metadata": {},
     "output_type": "execute_result"
    }
   ],
   "source": [
    "data[\"text\"].head(5)"
   ]
  },
  {
   "cell_type": "markdown",
   "id": "e32230de",
   "metadata": {},
   "source": [
    "### Remove punctuations"
   ]
  },
  {
   "cell_type": "code",
   "execution_count": 23,
   "id": "aeb90245",
   "metadata": {},
   "outputs": [
    {
     "data": {
      "text/plain": [
       "'!\"#$%&\\'()*+,-./:;<=>?@[\\\\]^_`{|}~'"
      ]
     },
     "execution_count": 23,
     "metadata": {},
     "output_type": "execute_result"
    }
   ],
   "source": [
    "string.punctuation"
   ]
  },
  {
   "cell_type": "code",
   "execution_count": 24,
   "id": "af87aa41",
   "metadata": {},
   "outputs": [],
   "source": [
    "def remove_punctuations(text):\n",
    "    for punctuation in string.punctuation:\n",
    "        text = text.replace(punctuation, '')\n",
    "    return text\n",
    "\n",
    "data[\"text\"] = data[\"text\"].apply(remove_punctuations)"
   ]
  },
  {
   "cell_type": "code",
   "execution_count": 25,
   "id": "8857c1cd",
   "metadata": {
    "scrolled": true
   },
   "outputs": [
    {
     "data": {
      "text/plain": [
       "9990    parent complain way much probabl sound controv...\n",
       "9991    poll post 1 remov view pollhttpswwwredditcompo...\n",
       "9992    like compliment straight guy mean im flirt mea...\n",
       "9993    search tati mcquay instagram tell she hot asf ...\n",
       "9994    aliv true hellim dumb ass depress ass good slu...\n",
       "9995    teenag femal like decis teenag femal make movi...\n",
       "9996    watch english teacher crash burn highlight mor...\n",
       "9997    controli feel like everyon tell live day day c...\n",
       "9998    keep nightmar trigger warn nightmar 1 stitch a...\n",
       "9999                 im lone bore need someon talk im 14m\n",
       "Name: text, dtype: object"
      ]
     },
     "execution_count": 25,
     "metadata": {},
     "output_type": "execute_result"
    }
   ],
   "source": [
    "data[\"text\"].tail(10)"
   ]
  },
  {
   "cell_type": "markdown",
   "id": "362075f8",
   "metadata": {},
   "source": [
    "### Remove numbers"
   ]
  },
  {
   "cell_type": "code",
   "execution_count": 26,
   "id": "1ba650eb",
   "metadata": {},
   "outputs": [
    {
     "name": "stderr",
     "output_type": "stream",
     "text": [
      "<>:1: SyntaxWarning: invalid escape sequence '\\d'\n",
      "<>:1: SyntaxWarning: invalid escape sequence '\\d'\n",
      "/tmp/ipykernel_489041/736649701.py:1: SyntaxWarning: invalid escape sequence '\\d'\n",
      "  data[\"text\"] = data['text'].str.replace('\\d+', '', regex=True)\n"
     ]
    }
   ],
   "source": [
    "data[\"text\"] = data['text'].str.replace('\\d+', '', regex=True)"
   ]
  },
  {
   "cell_type": "code",
   "execution_count": 27,
   "id": "63899f2e",
   "metadata": {},
   "outputs": [
    {
     "data": {
      "text/plain": [
       "9990    parent complain way much probabl sound controv...\n",
       "9991    poll post  remov view pollhttpswwwredditcompol...\n",
       "9992    like compliment straight guy mean im flirt mea...\n",
       "9993    search tati mcquay instagram tell she hot asf ...\n",
       "9994    aliv true hellim dumb ass depress ass good slu...\n",
       "9995    teenag femal like decis teenag femal make movi...\n",
       "9996    watch english teacher crash burn highlight mor...\n",
       "9997    controli feel like everyon tell live day day c...\n",
       "9998    keep nightmar trigger warn nightmar  stitch al...\n",
       "9999                   im lone bore need someon talk im m\n",
       "Name: text, dtype: object"
      ]
     },
     "execution_count": 27,
     "metadata": {},
     "output_type": "execute_result"
    }
   ],
   "source": [
    "data[\"text\"].tail(10)"
   ]
  },
  {
   "cell_type": "markdown",
   "id": "c8dc4bc7",
   "metadata": {},
   "source": [
    "### Remove stopwords"
   ]
  },
  {
   "cell_type": "code",
   "execution_count": 25,
   "id": "3e7d9b38",
   "metadata": {},
   "outputs": [],
   "source": [
    "# !pip install nltk"
   ]
  },
  {
   "cell_type": "code",
   "execution_count": 28,
   "id": "ecb2cee9",
   "metadata": {},
   "outputs": [],
   "source": [
    "import nltk"
   ]
  },
  {
   "cell_type": "code",
   "execution_count": 29,
   "id": "e1db5deb",
   "metadata": {},
   "outputs": [
    {
     "name": "stderr",
     "output_type": "stream",
     "text": [
      "[nltk_data] Downloading package stopwords to ../static/model...\n",
      "[nltk_data]   Package stopwords is already up-to-date!\n"
     ]
    },
    {
     "data": {
      "text/plain": [
       "True"
      ]
     },
     "execution_count": 29,
     "metadata": {},
     "output_type": "execute_result"
    }
   ],
   "source": [
    "nltk.download('stopwords', download_dir='../static/model')"
   ]
  },
  {
   "cell_type": "code",
   "execution_count": 30,
   "id": "578e1739",
   "metadata": {},
   "outputs": [],
   "source": [
    "with open('../static/model/corpora/stopwords/english', 'r') as file:\n",
    "    sw = file.read().splitlines()"
   ]
  },
  {
   "cell_type": "code",
   "execution_count": 31,
   "id": "f6dd2ddd",
   "metadata": {},
   "outputs": [
    {
     "data": {
      "text/plain": [
       "['i',\n",
       " 'me',\n",
       " 'my',\n",
       " 'myself',\n",
       " 'we',\n",
       " 'our',\n",
       " 'ours',\n",
       " 'ourselves',\n",
       " 'you',\n",
       " \"you're\",\n",
       " \"you've\",\n",
       " \"you'll\",\n",
       " \"you'd\",\n",
       " 'your',\n",
       " 'yours',\n",
       " 'yourself',\n",
       " 'yourselves',\n",
       " 'he',\n",
       " 'him',\n",
       " 'his',\n",
       " 'himself',\n",
       " 'she',\n",
       " \"she's\",\n",
       " 'her',\n",
       " 'hers',\n",
       " 'herself',\n",
       " 'it',\n",
       " \"it's\",\n",
       " 'its',\n",
       " 'itself',\n",
       " 'they',\n",
       " 'them',\n",
       " 'their',\n",
       " 'theirs',\n",
       " 'themselves',\n",
       " 'what',\n",
       " 'which',\n",
       " 'who',\n",
       " 'whom',\n",
       " 'this',\n",
       " 'that',\n",
       " \"that'll\",\n",
       " 'these',\n",
       " 'those',\n",
       " 'am',\n",
       " 'is',\n",
       " 'are',\n",
       " 'was',\n",
       " 'were',\n",
       " 'be',\n",
       " 'been',\n",
       " 'being',\n",
       " 'have',\n",
       " 'has',\n",
       " 'had',\n",
       " 'having',\n",
       " 'do',\n",
       " 'does',\n",
       " 'did',\n",
       " 'doing',\n",
       " 'a',\n",
       " 'an',\n",
       " 'the',\n",
       " 'and',\n",
       " 'but',\n",
       " 'if',\n",
       " 'or',\n",
       " 'because',\n",
       " 'as',\n",
       " 'until',\n",
       " 'while',\n",
       " 'of',\n",
       " 'at',\n",
       " 'by',\n",
       " 'for',\n",
       " 'with',\n",
       " 'about',\n",
       " 'against',\n",
       " 'between',\n",
       " 'into',\n",
       " 'through',\n",
       " 'during',\n",
       " 'before',\n",
       " 'after',\n",
       " 'above',\n",
       " 'below',\n",
       " 'to',\n",
       " 'from',\n",
       " 'up',\n",
       " 'down',\n",
       " 'in',\n",
       " 'out',\n",
       " 'on',\n",
       " 'off',\n",
       " 'over',\n",
       " 'under',\n",
       " 'again',\n",
       " 'further',\n",
       " 'then',\n",
       " 'once',\n",
       " 'here',\n",
       " 'there',\n",
       " 'when',\n",
       " 'where',\n",
       " 'why',\n",
       " 'how',\n",
       " 'all',\n",
       " 'any',\n",
       " 'both',\n",
       " 'each',\n",
       " 'few',\n",
       " 'more',\n",
       " 'most',\n",
       " 'other',\n",
       " 'some',\n",
       " 'such',\n",
       " 'no',\n",
       " 'nor',\n",
       " 'not',\n",
       " 'only',\n",
       " 'own',\n",
       " 'same',\n",
       " 'so',\n",
       " 'than',\n",
       " 'too',\n",
       " 'very',\n",
       " 's',\n",
       " 't',\n",
       " 'can',\n",
       " 'will',\n",
       " 'just',\n",
       " 'don',\n",
       " \"don't\",\n",
       " 'should',\n",
       " \"should've\",\n",
       " 'now',\n",
       " 'd',\n",
       " 'll',\n",
       " 'm',\n",
       " 'o',\n",
       " 're',\n",
       " 've',\n",
       " 'y',\n",
       " 'ain',\n",
       " 'aren',\n",
       " \"aren't\",\n",
       " 'couldn',\n",
       " \"couldn't\",\n",
       " 'didn',\n",
       " \"didn't\",\n",
       " 'doesn',\n",
       " \"doesn't\",\n",
       " 'hadn',\n",
       " \"hadn't\",\n",
       " 'hasn',\n",
       " \"hasn't\",\n",
       " 'haven',\n",
       " \"haven't\",\n",
       " 'isn',\n",
       " \"isn't\",\n",
       " 'ma',\n",
       " 'mightn',\n",
       " \"mightn't\",\n",
       " 'mustn',\n",
       " \"mustn't\",\n",
       " 'needn',\n",
       " \"needn't\",\n",
       " 'shan',\n",
       " \"shan't\",\n",
       " 'shouldn',\n",
       " \"shouldn't\",\n",
       " 'wasn',\n",
       " \"wasn't\",\n",
       " 'weren',\n",
       " \"weren't\",\n",
       " 'won',\n",
       " \"won't\",\n",
       " 'wouldn',\n",
       " \"wouldn't\"]"
      ]
     },
     "execution_count": 31,
     "metadata": {},
     "output_type": "execute_result"
    }
   ],
   "source": [
    "sw"
   ]
  },
  {
   "cell_type": "code",
   "execution_count": 34,
   "id": "6edc2552",
   "metadata": {},
   "outputs": [],
   "source": [
    "data[\"text\"] = data[\"text\"].apply(lambda x: \" \".join(x for x in x.split() if x not in sw))"
   ]
  },
  {
   "cell_type": "code",
   "execution_count": 35,
   "id": "7b4da7e2",
   "metadata": {},
   "outputs": [
    {
     "data": {
      "text/plain": [
       "0    dont know month self harm free urg get stronge...\n",
       "1    start becom rich start compani becom afford bi...\n",
       "2    poem haiku umegamedev hi hello hello stop fuck...\n",
       "3    ive honestli got idea anymoreit feel everyon f...\n",
       "4    ever cri like think unfair life cri cant cri e...\n",
       "Name: text, dtype: object"
      ]
     },
     "execution_count": 35,
     "metadata": {},
     "output_type": "execute_result"
    }
   ],
   "source": [
    "data[\"text\"].head()"
   ]
  },
  {
   "cell_type": "markdown",
   "id": "564a05cf",
   "metadata": {},
   "source": [
    "### Stemming"
   ]
  },
  {
   "cell_type": "code",
   "execution_count": 36,
   "id": "7a8f6628",
   "metadata": {},
   "outputs": [],
   "source": [
    "from nltk.stem import PorterStemmer\n",
    "ps = PorterStemmer()"
   ]
  },
  {
   "cell_type": "code",
   "execution_count": 37,
   "id": "9475054e",
   "metadata": {},
   "outputs": [],
   "source": [
    "data[\"text\"] = data[\"text\"].apply(lambda x: \" \".join(ps.stem(x) for x in x.split()))"
   ]
  },
  {
   "cell_type": "code",
   "execution_count": 38,
   "id": "8e70f1f5",
   "metadata": {},
   "outputs": [
    {
     "data": {
      "text/plain": [
       "0    dont know month self harm free urg get stronge...\n",
       "1    start becom rich start compani becom afford bi...\n",
       "2    poem haiku umegamedev hi hello hello stop fuck...\n",
       "3    ive honestli got idea anymoreit feel everyon f...\n",
       "4    ever cri like think unfair life cri cant cri e...\n",
       "Name: text, dtype: object"
      ]
     },
     "execution_count": 38,
     "metadata": {},
     "output_type": "execute_result"
    }
   ],
   "source": [
    "data[\"text\"].head()"
   ]
  },
  {
   "cell_type": "code",
   "execution_count": 39,
   "id": "5de7cd13",
   "metadata": {},
   "outputs": [
    {
     "data": {
      "text/html": [
       "<div>\n",
       "<style scoped>\n",
       "    .dataframe tbody tr th:only-of-type {\n",
       "        vertical-align: middle;\n",
       "    }\n",
       "\n",
       "    .dataframe tbody tr th {\n",
       "        vertical-align: top;\n",
       "    }\n",
       "\n",
       "    .dataframe thead th {\n",
       "        text-align: right;\n",
       "    }\n",
       "</style>\n",
       "<table border=\"1\" class=\"dataframe\">\n",
       "  <thead>\n",
       "    <tr style=\"text-align: right;\">\n",
       "      <th></th>\n",
       "      <th>text</th>\n",
       "      <th>class</th>\n",
       "    </tr>\n",
       "  </thead>\n",
       "  <tbody>\n",
       "    <tr>\n",
       "      <th>0</th>\n",
       "      <td>dont know month self harm free urg get stronge...</td>\n",
       "      <td>1</td>\n",
       "    </tr>\n",
       "    <tr>\n",
       "      <th>1</th>\n",
       "      <td>start becom rich start compani becom afford bi...</td>\n",
       "      <td>0</td>\n",
       "    </tr>\n",
       "    <tr>\n",
       "      <th>2</th>\n",
       "      <td>poem haiku umegamedev hi hello hello stop fuck...</td>\n",
       "      <td>0</td>\n",
       "    </tr>\n",
       "    <tr>\n",
       "      <th>3</th>\n",
       "      <td>ive honestli got idea anymoreit feel everyon f...</td>\n",
       "      <td>1</td>\n",
       "    </tr>\n",
       "    <tr>\n",
       "      <th>4</th>\n",
       "      <td>ever cri like think unfair life cri cant cri e...</td>\n",
       "      <td>0</td>\n",
       "    </tr>\n",
       "    <tr>\n",
       "      <th>...</th>\n",
       "      <td>...</td>\n",
       "      <td>...</td>\n",
       "    </tr>\n",
       "    <tr>\n",
       "      <th>9995</th>\n",
       "      <td>teenag femal like deci teenag femal make movi ...</td>\n",
       "      <td>0</td>\n",
       "    </tr>\n",
       "    <tr>\n",
       "      <th>9996</th>\n",
       "      <td>watch english teacher crash burn highlight mor...</td>\n",
       "      <td>0</td>\n",
       "    </tr>\n",
       "    <tr>\n",
       "      <th>9997</th>\n",
       "      <td>controli feel like everyon tell live day day c...</td>\n",
       "      <td>1</td>\n",
       "    </tr>\n",
       "    <tr>\n",
       "      <th>9998</th>\n",
       "      <td>keep nightmar trigger warn nightmar stitch alo...</td>\n",
       "      <td>0</td>\n",
       "    </tr>\n",
       "    <tr>\n",
       "      <th>9999</th>\n",
       "      <td>im lone bore need someon talk im</td>\n",
       "      <td>0</td>\n",
       "    </tr>\n",
       "  </tbody>\n",
       "</table>\n",
       "<p>9998 rows × 2 columns</p>\n",
       "</div>"
      ],
      "text/plain": [
       "                                                   text  class\n",
       "0     dont know month self harm free urg get stronge...      1\n",
       "1     start becom rich start compani becom afford bi...      0\n",
       "2     poem haiku umegamedev hi hello hello stop fuck...      0\n",
       "3     ive honestli got idea anymoreit feel everyon f...      1\n",
       "4     ever cri like think unfair life cri cant cri e...      0\n",
       "...                                                 ...    ...\n",
       "9995  teenag femal like deci teenag femal make movi ...      0\n",
       "9996  watch english teacher crash burn highlight mor...      0\n",
       "9997  controli feel like everyon tell live day day c...      1\n",
       "9998  keep nightmar trigger warn nightmar stitch alo...      0\n",
       "9999                   im lone bore need someon talk im      0\n",
       "\n",
       "[9998 rows x 2 columns]"
      ]
     },
     "execution_count": 39,
     "metadata": {},
     "output_type": "execute_result"
    }
   ],
   "source": [
    "data"
   ]
  },
  {
   "cell_type": "markdown",
   "id": "02b37cab",
   "metadata": {},
   "source": [
    "### Building Vacabulary"
   ]
  },
  {
   "cell_type": "code",
   "execution_count": 40,
   "id": "01a2e3bc",
   "metadata": {},
   "outputs": [],
   "source": [
    "from collections import Counter\n",
    "vocab = Counter()"
   ]
  },
  {
   "cell_type": "code",
   "execution_count": 41,
   "id": "82e30d97",
   "metadata": {},
   "outputs": [
    {
     "data": {
      "text/plain": [
       "Counter()"
      ]
     },
     "execution_count": 41,
     "metadata": {},
     "output_type": "execute_result"
    }
   ],
   "source": [
    "vocab"
   ]
  },
  {
   "cell_type": "code",
   "execution_count": 42,
   "id": "c8278c45",
   "metadata": {},
   "outputs": [],
   "source": [
    "for sentence in data['text']:\n",
    "    vocab.update(sentence.split())"
   ]
  },
  {
   "cell_type": "code",
   "execution_count": 43,
   "id": "717b8759",
   "metadata": {},
   "outputs": [
    {
     "data": {
      "text/plain": [
       "21916"
      ]
     },
     "execution_count": 43,
     "metadata": {},
     "output_type": "execute_result"
    }
   ],
   "source": [
    "len(vocab)"
   ]
  },
  {
   "cell_type": "code",
   "execution_count": 44,
   "id": "0e45adda",
   "metadata": {},
   "outputs": [
    {
     "data": {
      "text/plain": [
       "(9998, 2)"
      ]
     },
     "execution_count": 44,
     "metadata": {},
     "output_type": "execute_result"
    }
   ],
   "source": [
    "data.shape"
   ]
  },
  {
   "cell_type": "code",
   "execution_count": 45,
   "id": "dffb3d24",
   "metadata": {},
   "outputs": [],
   "source": [
    "tokens = [key for key in vocab if vocab[key] > 10]"
   ]
  },
  {
   "cell_type": "code",
   "execution_count": 46,
   "id": "58c93ce4",
   "metadata": {},
   "outputs": [
    {
     "data": {
      "text/plain": [
       "['dont',\n",
       " 'know',\n",
       " 'month',\n",
       " 'self',\n",
       " 'harm',\n",
       " 'free',\n",
       " 'urg',\n",
       " 'get',\n",
       " 'stronger',\n",
       " 'everi',\n",
       " 'day',\n",
       " 'past',\n",
       " 'ive',\n",
       " 'shit',\n",
       " 'famili',\n",
       " 'stress',\n",
       " 'especi',\n",
       " 'nephew',\n",
       " 'mum',\n",
       " 'full',\n",
       " 'custodi',\n",
       " 'told',\n",
       " 'go',\n",
       " 'kill',\n",
       " 'numer',\n",
       " 'time',\n",
       " 'wish',\n",
       " 'easi',\n",
       " 'partner',\n",
       " 'trigger',\n",
       " 'want',\n",
       " 'scream',\n",
       " 'cri',\n",
       " 'live',\n",
       " 'near',\n",
       " 'wood',\n",
       " 'could',\n",
       " 'till',\n",
       " 'cant',\n",
       " 'possibl',\n",
       " 'anymor',\n",
       " 'cop',\n",
       " 'probabl',\n",
       " 'call',\n",
       " 'oh',\n",
       " 'depress',\n",
       " 'doesnt',\n",
       " 'realli',\n",
       " 'im',\n",
       " 'feel',\n",
       " 'moment',\n",
       " 'would',\n",
       " 'come',\n",
       " 'make',\n",
       " 'sure',\n",
       " 'ok',\n",
       " 'fuck',\n",
       " 'annoy',\n",
       " 'small',\n",
       " 'stupid',\n",
       " 'thing',\n",
       " 'even',\n",
       " 'post',\n",
       " 'start',\n",
       " 'becom',\n",
       " 'rich',\n",
       " 'compani',\n",
       " 'afford',\n",
       " 'big',\n",
       " 'van',\n",
       " 'trip',\n",
       " 'friend',\n",
       " 'left',\n",
       " 'work',\n",
       " 'poem',\n",
       " 'hi',\n",
       " 'hello',\n",
       " 'stop',\n",
       " 'say',\n",
       " 'honestli',\n",
       " 'got',\n",
       " 'idea',\n",
       " 'everyon',\n",
       " 'fake',\n",
       " 'like',\n",
       " 'sometim',\n",
       " 'hear',\n",
       " 'brain',\n",
       " 'speak',\n",
       " 'hey',\n",
       " 'peopl',\n",
       " 'talk',\n",
       " 'far',\n",
       " 'help',\n",
       " 'music',\n",
       " 'kinda',\n",
       " 'good',\n",
       " 'deserv',\n",
       " 'nobodi',\n",
       " 'need',\n",
       " 'suicid',\n",
       " 'push',\n",
       " 'away',\n",
       " 'use',\n",
       " 'anyon',\n",
       " 'bare',\n",
       " 'anyth',\n",
       " 'life',\n",
       " 'love',\n",
       " 'one',\n",
       " 'well',\n",
       " 'abu',\n",
       " 'think',\n",
       " 'differ',\n",
       " 'except',\n",
       " 'father',\n",
       " 'actual',\n",
       " 'fine',\n",
       " 'id',\n",
       " 'suffer',\n",
       " 'see',\n",
       " 'point',\n",
       " 'hang',\n",
       " 'ill',\n",
       " 'never',\n",
       " 'better',\n",
       " 'guilti',\n",
       " 'commit',\n",
       " 'hard',\n",
       " 'gon',\n",
       " 'na',\n",
       " 'bad',\n",
       " 'regardless',\n",
       " 'ever',\n",
       " 'unfair',\n",
       " 'sit',\n",
       " 'seriou',\n",
       " 'world',\n",
       " 'suck',\n",
       " 'ugh',\n",
       " 'guy',\n",
       " 'scare',\n",
       " 'social',\n",
       " 'interact',\n",
       " 'tomorrow',\n",
       " 'someth',\n",
       " 'mate',\n",
       " 'though',\n",
       " 'fight',\n",
       " 'awkward',\n",
       " 'look',\n",
       " 'minecraft',\n",
       " 'week',\n",
       " 'dream',\n",
       " 'dramat',\n",
       " 'dm',\n",
       " 'comment',\n",
       " 'interest',\n",
       " 'accept',\n",
       " 'pictur',\n",
       " 'women',\n",
       " 'breast',\n",
       " 'hour',\n",
       " 'pm',\n",
       " 'fast',\n",
       " 'half',\n",
       " 'tonight',\n",
       " 'read',\n",
       " 'import',\n",
       " 'friendli',\n",
       " 'remind',\n",
       " 'lone',\n",
       " 'gotten',\n",
       " 'attent',\n",
       " 'send',\n",
       " 'u',\n",
       " 'funni',\n",
       " 'meme',\n",
       " 'mean',\n",
       " 'uh',\n",
       " 'wonder',\n",
       " 'last',\n",
       " 'two',\n",
       " 'commun',\n",
       " 'decid',\n",
       " 'fun',\n",
       " 'sinc',\n",
       " 'dead',\n",
       " 'everyth',\n",
       " 'pointless',\n",
       " 'suggest',\n",
       " 'someon',\n",
       " 'care',\n",
       " 'affect',\n",
       " 'planet',\n",
       " 'terribl',\n",
       " 'write',\n",
       " 'paragraph',\n",
       " 'text',\n",
       " 'return',\n",
       " 'clear',\n",
       " 'answer',\n",
       " 'least',\n",
       " 'tell',\n",
       " 'wrong',\n",
       " 'ideat',\n",
       " 'fear',\n",
       " 'death',\n",
       " 'gun',\n",
       " 'fail',\n",
       " 'scar',\n",
       " 'damag',\n",
       " 'happen',\n",
       " 'void',\n",
       " 'hope',\n",
       " 'afraid',\n",
       " 'lose',\n",
       " 'turn',\n",
       " 'corner',\n",
       " 'car',\n",
       " 'almost',\n",
       " 'front',\n",
       " 'semi',\n",
       " 'perfectli',\n",
       " 'okay',\n",
       " 'happi',\n",
       " 'final',\n",
       " 'made',\n",
       " 'wake',\n",
       " 'er',\n",
       " 'tri',\n",
       " 'take',\n",
       " 'year',\n",
       " 'harder',\n",
       " 'bed',\n",
       " 'regret',\n",
       " 'resent',\n",
       " 'proper',\n",
       " 'method',\n",
       " 'chanc',\n",
       " 'pretti',\n",
       " 'slim',\n",
       " 'enough',\n",
       " 'risk',\n",
       " 'sen',\n",
       " 'justic',\n",
       " 'bloodi',\n",
       " 'violent',\n",
       " 'quick',\n",
       " 'edg',\n",
       " 'end',\n",
       " 'man',\n",
       " 'face',\n",
       " 'scari',\n",
       " 'prospect',\n",
       " 'suppo',\n",
       " 'overcom',\n",
       " 'peac',\n",
       " 'alright',\n",
       " 'boy',\n",
       " 'girl',\n",
       " 'xbox',\n",
       " 'version',\n",
       " 'ball',\n",
       " 'super',\n",
       " 'howev',\n",
       " 'give',\n",
       " 'thank',\n",
       " 'notif',\n",
       " 'googl',\n",
       " 'classroom',\n",
       " 'assign',\n",
       " 'didnt',\n",
       " 'wifi',\n",
       " 'jerk',\n",
       " 'wait',\n",
       " 'move',\n",
       " 'person',\n",
       " 'wednesday',\n",
       " 'tire',\n",
       " 'angri',\n",
       " 'deal',\n",
       " 'trauma',\n",
       " 'way',\n",
       " 'done',\n",
       " 'catch',\n",
       " 'covid',\n",
       " 'la',\n",
       " 'da',\n",
       " 'let',\n",
       " 'water',\n",
       " 'flow',\n",
       " 'hesit',\n",
       " 'anoth',\n",
       " 'sun',\n",
       " 'rise',\n",
       " 'bliss',\n",
       " 'golden',\n",
       " 'beauti',\n",
       " 'much',\n",
       " 'deep',\n",
       " 'uncontrol',\n",
       " 'first',\n",
       " 'unless',\n",
       " 'plea',\n",
       " 'smoke',\n",
       " 'bit',\n",
       " 'hypocrit',\n",
       " 'finish',\n",
       " 'cigarett',\n",
       " 'realiz',\n",
       " 'lot',\n",
       " 'teen',\n",
       " 'pressur',\n",
       " 'worth',\n",
       " 'mistak',\n",
       " 'histori',\n",
       " 'cancer',\n",
       " 'danger',\n",
       " 'anyway',\n",
       " 'liter',\n",
       " 'reason',\n",
       " 'attend',\n",
       " 'ted',\n",
       " 'said',\n",
       " 'ye',\n",
       " 'k',\n",
       " 'mcdonald',\n",
       " 'school',\n",
       " 'trail',\n",
       " 'follow',\n",
       " 'cruel',\n",
       " 'also',\n",
       " 'disgust',\n",
       " 'toxic',\n",
       " 'grip',\n",
       " 'poison',\n",
       " 'mind',\n",
       " 'shame',\n",
       " 'constant',\n",
       " 'isnt',\n",
       " 'part',\n",
       " 'collect',\n",
       " 'keep',\n",
       " 'unlov',\n",
       " 'horror',\n",
       " 'memori',\n",
       " 'exhaust',\n",
       " 'walk',\n",
       " 'whilst',\n",
       " 'total',\n",
       " 'grey',\n",
       " 'creep',\n",
       " 'terror',\n",
       " 'sick',\n",
       " 'otherwi',\n",
       " 'stand',\n",
       " 'without',\n",
       " 'blood',\n",
       " 'rush',\n",
       " 'head',\n",
       " 'parent',\n",
       " 'die',\n",
       " 'despair',\n",
       " 'shut',\n",
       " 'wrap',\n",
       " 'light',\n",
       " 'lock',\n",
       " 'door',\n",
       " 'back',\n",
       " 'insid',\n",
       " 'land',\n",
       " 'administr',\n",
       " 'error',\n",
       " 'learn',\n",
       " 'knew',\n",
       " 'dread',\n",
       " 'yesterday',\n",
       " 'disappear',\n",
       " 'silenc',\n",
       " 'noi',\n",
       " 'monster',\n",
       " 'must',\n",
       " 'truli',\n",
       " 'youd',\n",
       " 'noth',\n",
       " 'chat',\n",
       " 'share',\n",
       " 'theyr',\n",
       " 'drug',\n",
       " 'breakup',\n",
       " 'etc',\n",
       " 'troll',\n",
       " 'stori',\n",
       " 'swear',\n",
       " 'god',\n",
       " 'boil',\n",
       " 'leg',\n",
       " 'eat',\n",
       " 'sold',\n",
       " 'soul',\n",
       " 'ago',\n",
       " 'drop',\n",
       " 'floor',\n",
       " 'broke',\n",
       " 'dad',\n",
       " 'fix',\n",
       " 'tuesday',\n",
       " 'place',\n",
       " 'ish',\n",
       " 'cash',\n",
       " 'split',\n",
       " 'bill',\n",
       " 'zero',\n",
       " 'miss',\n",
       " 'class',\n",
       " 'bump',\n",
       " 'agr',\n",
       " 'biolog',\n",
       " 'stuff',\n",
       " 'imposs',\n",
       " 'promi',\n",
       " 'four',\n",
       " 'pay',\n",
       " 'price',\n",
       " 'luck',\n",
       " 'boi',\n",
       " 'came',\n",
       " 'somebodi',\n",
       " 'home',\n",
       " 'took',\n",
       " 'rip',\n",
       " 'wall',\n",
       " 'room',\n",
       " 'realist',\n",
       " 'option',\n",
       " 'legal',\n",
       " 'depend',\n",
       " 'system',\n",
       " 'instant',\n",
       " 'broken',\n",
       " 'hand',\n",
       " 'son',\n",
       " 'bitch',\n",
       " 'leav',\n",
       " 'kind',\n",
       " 'coma',\n",
       " 'youv',\n",
       " 'asleep',\n",
       " 'find',\n",
       " 'somewh',\n",
       " 'somehow',\n",
       " 'destroy',\n",
       " 'skin',\n",
       " 'murder',\n",
       " 'mom',\n",
       " 'cat',\n",
       " 'sent',\n",
       " 'comput',\n",
       " 'phone',\n",
       " 'brought',\n",
       " 'three',\n",
       " 'threw',\n",
       " 'request',\n",
       " 'close',\n",
       " 'anim',\n",
       " 'show',\n",
       " 'replac',\n",
       " 'explain',\n",
       " 'wasnt',\n",
       " 'emot',\n",
       " 'drain',\n",
       " 'describ',\n",
       " 'closet',\n",
       " 'bring',\n",
       " 'open',\n",
       " 'media',\n",
       " 'still',\n",
       " 'effort',\n",
       " 'youtub',\n",
       " 'new',\n",
       " 'larger',\n",
       " 'fault',\n",
       " 'copi',\n",
       " 'cheap',\n",
       " 'mess',\n",
       " 'dismiss',\n",
       " 'kept',\n",
       " 'littl',\n",
       " 'gone',\n",
       " 'club',\n",
       " 'packag',\n",
       " 'milk',\n",
       " 'box',\n",
       " 'toy',\n",
       " 'alreadi',\n",
       " 'mark',\n",
       " 'problem',\n",
       " 'went',\n",
       " 'ad',\n",
       " 'entir',\n",
       " 'properti',\n",
       " 'bowl',\n",
       " 'gave',\n",
       " 'style',\n",
       " 'bought',\n",
       " 'sake',\n",
       " 'brow',\n",
       " 'store',\n",
       " 'sorta',\n",
       " 'china',\n",
       " 'space',\n",
       " 'encount',\n",
       " 'indic',\n",
       " 'us',\n",
       " 'forget',\n",
       " 'ff',\n",
       " 'book',\n",
       " 'surviv',\n",
       " 'plastic',\n",
       " 'dish',\n",
       " 'duck',\n",
       " 'rant',\n",
       " 'art',\n",
       " 'suppli',\n",
       " 'late',\n",
       " 'earli',\n",
       " 'put',\n",
       " 'fucker',\n",
       " 'felt',\n",
       " 'miser',\n",
       " 'instead',\n",
       " 'environ',\n",
       " 'bottl',\n",
       " 'c',\n",
       " 'top',\n",
       " 'paint',\n",
       " 'old',\n",
       " 'rid',\n",
       " 'hurt',\n",
       " 'notic',\n",
       " 'right',\n",
       " 'recent',\n",
       " 'tear',\n",
       " 'imagin',\n",
       " 'reach',\n",
       " 'hot',\n",
       " 'heard',\n",
       " 'break',\n",
       " 'guess',\n",
       " 'longer',\n",
       " 'intend',\n",
       " 'detail',\n",
       " 'everytim',\n",
       " 'mainli',\n",
       " 'guilt',\n",
       " 'havent',\n",
       " 'pain',\n",
       " 'either',\n",
       " 'contact',\n",
       " 'atleast',\n",
       " 'alon',\n",
       " 'wont',\n",
       " 'eye',\n",
       " 'sorri',\n",
       " 'dog',\n",
       " 'bird',\n",
       " 'threat',\n",
       " 'instinct',\n",
       " 'ya',\n",
       " 'train',\n",
       " 'plu',\n",
       " 'sad',\n",
       " 'money',\n",
       " 'meet',\n",
       " 'tini',\n",
       " 'readi',\n",
       " 'job',\n",
       " 'beyond',\n",
       " 'aw',\n",
       " 'valuabl',\n",
       " 'experi',\n",
       " 'figur',\n",
       " 'colleg',\n",
       " 'useless',\n",
       " 'degr',\n",
       " 'isol',\n",
       " 'alien',\n",
       " 'appreci',\n",
       " 'constantli',\n",
       " 'voic',\n",
       " 'win',\n",
       " 'thought',\n",
       " 'counsel',\n",
       " 'therapi',\n",
       " 'spend',\n",
       " 'rest',\n",
       " 'special',\n",
       " 'succeed',\n",
       " 'worthwhil',\n",
       " 'goal',\n",
       " 'motiv',\n",
       " 'futur',\n",
       " 'grow',\n",
       " 'experienc',\n",
       " 'woke',\n",
       " 'matter',\n",
       " 'opinion',\n",
       " 'sub',\n",
       " 'guarant',\n",
       " 'convinc',\n",
       " 'buy',\n",
       " 'pc',\n",
       " 'safe',\n",
       " 'five',\n",
       " 'rent',\n",
       " 'bedroom',\n",
       " 'nice',\n",
       " 'area',\n",
       " 'countri',\n",
       " 'equip',\n",
       " 'fell',\n",
       " 'wor',\n",
       " 'today',\n",
       " 'cau',\n",
       " 'bunch',\n",
       " 'schoolwork',\n",
       " 'procrastin',\n",
       " 'mad',\n",
       " 'communist',\n",
       " 'starv',\n",
       " 'pound',\n",
       " 'curiou',\n",
       " 'written',\n",
       " 'ask',\n",
       " 'stay',\n",
       " 'skip',\n",
       " 'pack',\n",
       " 'bag',\n",
       " 'night',\n",
       " 'hide',\n",
       " 'next',\n",
       " 'coupl',\n",
       " 'ngl',\n",
       " 'distanc',\n",
       " 'matur',\n",
       " 'chang',\n",
       " 'envi',\n",
       " 'fill',\n",
       " 'bestfriend',\n",
       " 'burst',\n",
       " 'insignif',\n",
       " 'whatev',\n",
       " 'hate',\n",
       " 'best',\n",
       " 'insult',\n",
       " 'wan',\n",
       " 'anxieti',\n",
       " 'couldnt',\n",
       " 'profess',\n",
       " 'control',\n",
       " 'cour',\n",
       " 'pretend',\n",
       " 'countless',\n",
       " 'overwhelm',\n",
       " 'desper',\n",
       " 'food',\n",
       " 'breath',\n",
       " 'video',\n",
       " 'viru',\n",
       " 'interview',\n",
       " 'guardian',\n",
       " 'known',\n",
       " 'stood',\n",
       " 'park',\n",
       " 'closer',\n",
       " 'hit',\n",
       " 'ampxb',\n",
       " 'male',\n",
       " 'classmat',\n",
       " 'run',\n",
       " 'unemploy',\n",
       " 'decent',\n",
       " 'gener',\n",
       " 'might',\n",
       " 'shout',\n",
       " 'background',\n",
       " 'complet',\n",
       " 'asid',\n",
       " 'saw',\n",
       " 'street',\n",
       " 'altern',\n",
       " 'less',\n",
       " 'pray',\n",
       " 'nearli',\n",
       " 'edit',\n",
       " 'forgot',\n",
       " 'mention',\n",
       " 'homework',\n",
       " 'prepar',\n",
       " 'check',\n",
       " 'ate',\n",
       " 'england',\n",
       " 'arent',\n",
       " 'mani',\n",
       " 'british',\n",
       " 'may',\n",
       " 'relea',\n",
       " 'hospit',\n",
       " 'sister',\n",
       " 'mother',\n",
       " 'ambul',\n",
       " 'admit',\n",
       " 'later',\n",
       " 'huge',\n",
       " 'disappoint',\n",
       " 'welcom',\n",
       " 'allow',\n",
       " 'anywh',\n",
       " 'privaci',\n",
       " 'long',\n",
       " 'neg',\n",
       " 'understand',\n",
       " 'topic',\n",
       " 'ignor',\n",
       " 'subreddit',\n",
       " 'wouldnt',\n",
       " 'exactli',\n",
       " 'due',\n",
       " 'werent',\n",
       " 'string',\n",
       " 'attach',\n",
       " 'pleasur',\n",
       " 'weight',\n",
       " 'gain',\n",
       " 'circumst',\n",
       " 'therapist',\n",
       " 'psychiatrist',\n",
       " 'around',\n",
       " 'graduat',\n",
       " 'high',\n",
       " 'public',\n",
       " 'cling',\n",
       " 'secur',\n",
       " 'pathet',\n",
       " 'purpo',\n",
       " 'rather',\n",
       " 'fact',\n",
       " 'view',\n",
       " 'bother',\n",
       " 'visit',\n",
       " 'exampl',\n",
       " 'amount',\n",
       " 'develop',\n",
       " 'term',\n",
       " 'issu',\n",
       " 'major',\n",
       " 'argument',\n",
       " 'addit',\n",
       " 'worri',\n",
       " 'associ',\n",
       " 'confront',\n",
       " 'alway',\n",
       " 'sever',\n",
       " 'temper',\n",
       " 'yell',\n",
       " 'cur',\n",
       " 'nowher',\n",
       " 'reaction',\n",
       " 'hed',\n",
       " 'throw',\n",
       " 'tabl',\n",
       " 'pull',\n",
       " 'weapon',\n",
       " 'struggl',\n",
       " 'tran',\n",
       " 'worsen',\n",
       " 'hardcor',\n",
       " 'gay',\n",
       " 'assum',\n",
       " 'receiv',\n",
       " 'anger',\n",
       " 'grew',\n",
       " 'conserv',\n",
       " 'rural',\n",
       " 'poor',\n",
       " 'opportun',\n",
       " 'led',\n",
       " 'frequent',\n",
       " 'bulli',\n",
       " 'respon',\n",
       " 'relationship',\n",
       " 'climb',\n",
       " 'teenag',\n",
       " 'bitter',\n",
       " 'eventu',\n",
       " 'gradual',\n",
       " 'cea',\n",
       " 'exist',\n",
       " 'spent',\n",
       " 'drift',\n",
       " 'randomli',\n",
       " 'pick',\n",
       " 'often',\n",
       " 'result',\n",
       " 'haunt',\n",
       " 'funer',\n",
       " 'improv',\n",
       " 'abl',\n",
       " 'continu',\n",
       " 'remain',\n",
       " 'closest',\n",
       " 'real',\n",
       " 'mayb',\n",
       " 'abandon',\n",
       " 'carri',\n",
       " 'stigma',\n",
       " 'level',\n",
       " 'societi',\n",
       " 'pile',\n",
       " 'onto',\n",
       " 'challeng',\n",
       " 'game',\n",
       " 'younger',\n",
       " 'program',\n",
       " 'enjoy',\n",
       " 'proud',\n",
       " 'pass',\n",
       " 'psych',\n",
       " 'ward',\n",
       " 'switch',\n",
       " 'medicin',\n",
       " 'type',\n",
       " 'regularli',\n",
       " 'shove',\n",
       " 'overdo',\n",
       " 'ex',\n",
       " 'lost',\n",
       " 'summer',\n",
       " 'fiancé',\n",
       " 'rel',\n",
       " 'mine',\n",
       " 'mile',\n",
       " 'across',\n",
       " 'everyday',\n",
       " 'girlfriend',\n",
       " 'sign',\n",
       " 'whenev',\n",
       " 'worthless',\n",
       " 'trade',\n",
       " 'emoji',\n",
       " 'word',\n",
       " 'fuckin',\n",
       " 'mod',\n",
       " 'excit',\n",
       " 'news',\n",
       " 'creat',\n",
       " 'daili',\n",
       " 'moon',\n",
       " 'idk',\n",
       " 'el',\n",
       " 'trash',\n",
       " 'compar',\n",
       " 'galaxi',\n",
       " 'weekend',\n",
       " 'join',\n",
       " 'suicidei',\n",
       " 'forc',\n",
       " 'courag',\n",
       " 'failur',\n",
       " 'cut',\n",
       " 'short',\n",
       " 'bleed',\n",
       " 'dri',\n",
       " 'bathroom',\n",
       " 'escap',\n",
       " 'weak',\n",
       " 'perhap',\n",
       " 'delu',\n",
       " 'slice',\n",
       " 'arm',\n",
       " 'repair',\n",
       " 'physic',\n",
       " 'lash',\n",
       " 'respect',\n",
       " 'boundari',\n",
       " 'threaten',\n",
       " 'manipul',\n",
       " 'english',\n",
       " 'acknowledg',\n",
       " 'begin',\n",
       " 'sound',\n",
       " 'idiot',\n",
       " 'crazi',\n",
       " 'bear',\n",
       " 'contempl',\n",
       " 'straight',\n",
       " 'sleep',\n",
       " 'ton',\n",
       " 'redditor',\n",
       " 'save',\n",
       " 'loser',\n",
       " 'boyfriend',\n",
       " 'crush',\n",
       " 'slit',\n",
       " 'throat',\n",
       " 'great',\n",
       " 'cunt',\n",
       " 'achiev',\n",
       " 'heart',\n",
       " 'attack',\n",
       " 'expect',\n",
       " 'empti',\n",
       " 'bullshit',\n",
       " 'aliv',\n",
       " 'obviou',\n",
       " 'destin',\n",
       " 'number',\n",
       " 'prefer',\n",
       " 'support',\n",
       " 'longest',\n",
       " 'amp',\n",
       " 'minimum',\n",
       " 'basic',\n",
       " 'standard',\n",
       " 'despit',\n",
       " 'treatment',\n",
       " 'numb',\n",
       " 'slowli',\n",
       " 'selfloath',\n",
       " 'strong',\n",
       " 'act',\n",
       " 'theyll',\n",
       " 'heal',\n",
       " 'cope',\n",
       " 'delay',\n",
       " 'inevit',\n",
       " 'highli',\n",
       " 'lead',\n",
       " 'certain',\n",
       " 'untreat',\n",
       " 'battl',\n",
       " 'adopt',\n",
       " 'born',\n",
       " 'addict',\n",
       " 'heroin',\n",
       " 'pregnanc',\n",
       " 'verbal',\n",
       " 'foster',\n",
       " 'destruct',\n",
       " 'behaviour',\n",
       " 'tho',\n",
       " 'fal',\n",
       " 'shitti',\n",
       " 'cup',\n",
       " 'lay',\n",
       " 'ground',\n",
       " 'grasp',\n",
       " 'air',\n",
       " 'everywh',\n",
       " 'damn',\n",
       " 'heavi',\n",
       " 'stone',\n",
       " 'minut',\n",
       " 'furri',\n",
       " 'frick',\n",
       " 'singl',\n",
       " 'conver',\n",
       " 'subject',\n",
       " 'activ',\n",
       " 'men',\n",
       " 'sexist',\n",
       " 'solv',\n",
       " 'yet',\n",
       " 'piec',\n",
       " 'thanksgiv',\n",
       " 'togeth',\n",
       " 'odd',\n",
       " 'hou',\n",
       " 'rememb',\n",
       " 'window',\n",
       " 'found',\n",
       " 'shock',\n",
       " 'marri',\n",
       " 'contract',\n",
       " 'disea',\n",
       " 'declin',\n",
       " 'mental',\n",
       " 'capac',\n",
       " 'easier',\n",
       " 'debt',\n",
       " 'medic',\n",
       " 'expen',\n",
       " 'babi',\n",
       " 'suppress',\n",
       " 'tendenc',\n",
       " 'regard',\n",
       " 'excu',\n",
       " 'sophomor',\n",
       " 'immedi',\n",
       " ...]"
      ]
     },
     "execution_count": 46,
     "metadata": {},
     "output_type": "execute_result"
    }
   ],
   "source": [
    "tokens"
   ]
  },
  {
   "cell_type": "code",
   "execution_count": 47,
   "id": "9c67d7a5",
   "metadata": {},
   "outputs": [],
   "source": [
    "def save_vocabulary(lines, filename):\n",
    "    data = '\\n'.join(lines)\n",
    "    file = open(filename, 'w', encoding=\"utf-8\")\n",
    "    file.write(data)\n",
    "    file.close()\n",
    "\n",
    "save_vocabulary(tokens, 'vocabulary.txt')"
   ]
  },
  {
   "cell_type": "markdown",
   "id": "3c475c44",
   "metadata": {},
   "source": [
    "### Divide dataset "
   ]
  },
  {
   "cell_type": "code",
   "execution_count": 48,
   "id": "9698f4ae",
   "metadata": {},
   "outputs": [],
   "source": [
    "X = data['text']\n",
    "y = data['class']"
   ]
  },
  {
   "cell_type": "code",
   "execution_count": 49,
   "id": "c479ebc2",
   "metadata": {},
   "outputs": [],
   "source": [
    "# !pip install scikit-learn"
   ]
  },
  {
   "cell_type": "code",
   "execution_count": 51,
   "id": "27c65cf7",
   "metadata": {},
   "outputs": [],
   "source": [
    "from sklearn.model_selection import train_test_split\n",
    "X_train, X_test, y_train, y_test = train_test_split(X, y, test_size=0.2)"
   ]
  },
  {
   "cell_type": "code",
   "execution_count": 52,
   "id": "d6c2fd89",
   "metadata": {},
   "outputs": [
    {
     "data": {
      "text/plain": [
       "2045    guy told time stop ask number get annoy sawara...\n",
       "4463    point beg peopl help kill everi daywhat point ...\n",
       "9140    petit moder add stori flair flair would use pe...\n",
       "9769    wrote littl program send text messag parent lo...\n",
       "8483    dont want diei dont want die dont want surviv ...\n",
       "                              ...                        \n",
       "8673    id like know least someon love amdur day wait ...\n",
       "834                            furri bad peopl get offend\n",
       "5959    dont know ill last yearm us resid live ulcer c...\n",
       "5244    suicid ideat cross contempl alway dealt low gr...\n",
       "1071    honestli think would better wasnt aliv gotten ...\n",
       "Name: text, Length: 7998, dtype: object"
      ]
     },
     "execution_count": 52,
     "metadata": {},
     "output_type": "execute_result"
    }
   ],
   "source": [
    "X_train"
   ]
  },
  {
   "cell_type": "code",
   "execution_count": 48,
   "id": "458e6097",
   "metadata": {},
   "outputs": [
    {
     "data": {
      "text/plain": [
       "8481    sister think depress dysthymia lol ok mr docto...\n",
       "662     never open mouth ever againani time talk feel ...\n",
       "8720    happi th juli great day dieiv think think toda...\n",
       "4544    lgtbq alli lgtbq alli like dont think fulli un...\n",
       "8643    im tire cowardsometim like fool think want sur...\n",
       "                              ...                        \n",
       "1993    rocket mani realli bad final exam work extrem ...\n",
       "8635    pro con date mebe friend actual reason prosi l...\n",
       "3908    nvm ill take shower yet mom take shower time r...\n",
       "6218    im fuck get wor turn ill alon next week realli...\n",
       "9601    potenti pedophileim current feel might actual ...\n",
       "Name: text, Length: 2000, dtype: object"
      ]
     },
     "execution_count": 48,
     "metadata": {},
     "output_type": "execute_result"
    }
   ],
   "source": [
    "X_test"
   ]
  },
  {
   "cell_type": "code",
   "execution_count": 49,
   "id": "06937d5c",
   "metadata": {},
   "outputs": [
    {
     "data": {
      "text/plain": [
       "2787    1\n",
       "3881    1\n",
       "8786    1\n",
       "9816    0\n",
       "3010    1\n",
       "       ..\n",
       "3102    1\n",
       "4236    1\n",
       "8776    0\n",
       "5726    1\n",
       "1201    1\n",
       "Name: class, Length: 7998, dtype: int64"
      ]
     },
     "execution_count": 49,
     "metadata": {},
     "output_type": "execute_result"
    }
   ],
   "source": [
    "y_train"
   ]
  },
  {
   "cell_type": "markdown",
   "id": "89f7b89c",
   "metadata": {},
   "source": [
    "### Vectorization "
   ]
  },
  {
   "cell_type": "code",
   "execution_count": 53,
   "id": "9c634127",
   "metadata": {},
   "outputs": [],
   "source": [
    "def vectorizer(ds, vocabulary):\n",
    "    vectorized_lst = []  # Corrected this line\n",
    "    \n",
    "    for sentence in ds:\n",
    "        sentence_lst = np.zeros(len(vocabulary))\n",
    "        \n",
    "        for i in range(len(vocabulary)):\n",
    "            if vocabulary[i] in sentence.split():\n",
    "                sentence_lst[i] = 1\n",
    "                \n",
    "        vectorized_lst.append(sentence_lst)\n",
    "        \n",
    "    vectorized_lst_new = np.asarray(vectorized_lst, dtype=np.float32)\n",
    "    \n",
    "    return vectorized_lst_new"
   ]
  },
  {
   "cell_type": "code",
   "execution_count": 54,
   "id": "81d288bb",
   "metadata": {},
   "outputs": [],
   "source": [
    "vectorized_x_train = vectorizer(X_train, tokens)"
   ]
  },
  {
   "cell_type": "code",
   "execution_count": 55,
   "id": "7a978100",
   "metadata": {},
   "outputs": [],
   "source": [
    "vectorized_x_test = vectorizer(X_test, tokens)"
   ]
  },
  {
   "cell_type": "code",
   "execution_count": 56,
   "id": "e65f0106",
   "metadata": {},
   "outputs": [
    {
     "data": {
      "text/plain": [
       "array([[0., 0., 0., ..., 0., 0., 0.],\n",
       "       [0., 0., 0., ..., 0., 0., 0.],\n",
       "       [0., 0., 0., ..., 0., 0., 0.],\n",
       "       ...,\n",
       "       [1., 1., 0., ..., 0., 0., 0.],\n",
       "       [1., 0., 0., ..., 0., 0., 0.],\n",
       "       [1., 1., 0., ..., 0., 0., 0.]], dtype=float32)"
      ]
     },
     "execution_count": 56,
     "metadata": {},
     "output_type": "execute_result"
    }
   ],
   "source": [
    "vectorized_x_train"
   ]
  },
  {
   "cell_type": "code",
   "execution_count": 57,
   "id": "c4c2a831",
   "metadata": {},
   "outputs": [
    {
     "data": {
      "text/plain": [
       "2045    0\n",
       "4463    1\n",
       "9140    0\n",
       "9769    1\n",
       "8483    1\n",
       "       ..\n",
       "8673    1\n",
       "834     0\n",
       "5959    1\n",
       "5244    1\n",
       "1071    1\n",
       "Name: class, Length: 7998, dtype: int64"
      ]
     },
     "execution_count": 57,
     "metadata": {},
     "output_type": "execute_result"
    }
   ],
   "source": [
    "y_train"
   ]
  },
  {
   "cell_type": "code",
   "execution_count": 58,
   "id": "e660131f",
   "metadata": {},
   "outputs": [
    {
     "data": {
      "text/plain": [
       "array([[0., 0., 0., ..., 0., 0., 0.],\n",
       "       [1., 1., 0., ..., 0., 0., 0.],\n",
       "       [0., 0., 0., ..., 0., 0., 0.],\n",
       "       ...,\n",
       "       [1., 1., 0., ..., 0., 0., 0.],\n",
       "       [1., 0., 0., ..., 0., 0., 0.],\n",
       "       [0., 0., 0., ..., 0., 0., 0.]], dtype=float32)"
      ]
     },
     "execution_count": 58,
     "metadata": {},
     "output_type": "execute_result"
    }
   ],
   "source": [
    "vectorized_x_test"
   ]
  },
  {
   "cell_type": "code",
   "execution_count": 59,
   "id": "d7bf543d",
   "metadata": {},
   "outputs": [
    {
     "data": {
      "text/plain": [
       "3217    0\n",
       "2323    0\n",
       "5529    0\n",
       "7575    1\n",
       "1377    1\n",
       "       ..\n",
       "2368    1\n",
       "9307    0\n",
       "2592    1\n",
       "9456    0\n",
       "1061    0\n",
       "Name: class, Length: 2000, dtype: int64"
      ]
     },
     "execution_count": 59,
     "metadata": {},
     "output_type": "execute_result"
    }
   ],
   "source": [
    "y_test"
   ]
  },
  {
   "cell_type": "code",
   "execution_count": 60,
   "id": "39239bd6",
   "metadata": {},
   "outputs": [
    {
     "data": {
      "text/plain": [
       "class\n",
       "0    4056\n",
       "1    3942\n",
       "Name: count, dtype: int64"
      ]
     },
     "execution_count": 60,
     "metadata": {},
     "output_type": "execute_result"
    }
   ],
   "source": [
    "y_train.value_counts()"
   ]
  },
  {
   "cell_type": "code",
   "execution_count": 61,
   "id": "53e00be0",
   "metadata": {},
   "outputs": [
    {
     "data": {
      "image/png": "[encoded data removed]",
      "text/plain": [
       "<Figure size 640x480 with 1 Axes>"
      ]
     },
     "metadata": {},
     "output_type": "display_data"
    }
   ],
   "source": [
    "plt.pie(np.array([y_train.value_counts()[0], y_train.value_counts()[1]]), labels=['Positive', 'Negative'])\n",
    "plt.show()"
   ]
  },
  {
   "cell_type": "markdown",
   "id": "f08308ff",
   "metadata": {},
   "source": [
    "### Handle imbalanced dataset "
   ]
  },
  {
   "cell_type": "code",
   "execution_count": 62,
   "id": "b1f6933f",
   "metadata": {},
   "outputs": [],
   "source": [
    "# !pip install imbalanced-learn"
   ]
  },
  {
   "cell_type": "code",
   "execution_count": 63,
   "id": "69fce848",
   "metadata": {},
   "outputs": [
    {
     "name": "stdout",
     "output_type": "stream",
     "text": [
      "(8112, 3448) (8112,)\n"
     ]
    }
   ],
   "source": [
    "from imblearn.over_sampling import SMOTE\n",
    "smote = SMOTE()\n",
    "vectorized_x_train_smote, y_train_smote = smote.fit_resample(vectorized_x_train, y_train)\n",
    "print(vectorized_x_train_smote.shape, y_train_smote.shape)"
   ]
  },
  {
   "cell_type": "code",
   "execution_count": 64,
   "id": "800fba74",
   "metadata": {},
   "outputs": [
    {
     "data": {
      "text/plain": [
       "class\n",
       "0    4056\n",
       "1    4056\n",
       "Name: count, dtype: int64"
      ]
     },
     "execution_count": 64,
     "metadata": {},
     "output_type": "execute_result"
    }
   ],
   "source": [
    "y_train_smote.value_counts()"
   ]
  },
  {
   "cell_type": "code",
   "execution_count": 65,
   "id": "4e32afe0",
   "metadata": {},
   "outputs": [
    {
     "data": {
      "image/png": "[encoded data removed]",
      "text/plain": [
       "<Figure size 640x480 with 1 Axes>"
      ]
     },
     "metadata": {},
     "output_type": "display_data"
    }
   ],
   "source": [
    "plt.pie(np.array([y_train_smote.value_counts()[0], y_train_smote.value_counts()[1]]), labels=['Positive', 'Negative'])\n",
    "plt.show()"
   ]
  },
  {
   "cell_type": "code",
   "execution_count": 66,
   "id": "88e5b540",
   "metadata": {},
   "outputs": [
    {
     "data": {
      "text/plain": [
       "array([[0.       , 0.       , 0.       , ..., 0.       , 0.       ,\n",
       "        0.       ],\n",
       "       [0.       , 0.       , 0.       , ..., 0.       , 0.       ,\n",
       "        0.       ],\n",
       "       [0.       , 0.       , 0.       , ..., 0.       , 0.       ,\n",
       "        0.       ],\n",
       "       ...,\n",
       "       [0.       , 0.6333938, 0.6333938, ..., 0.       , 0.       ,\n",
       "        0.       ],\n",
       "       [1.       , 0.       , 0.       , ..., 0.       , 0.       ,\n",
       "        0.       ],\n",
       "       [1.       , 0.       , 0.       , ..., 0.       , 0.       ,\n",
       "        0.       ]], dtype=float32)"
      ]
     },
     "execution_count": 66,
     "metadata": {},
     "output_type": "execute_result"
    }
   ],
   "source": [
    "vectorized_x_train_smote"
   ]
  },
  {
   "cell_type": "code",
   "execution_count": 67,
   "id": "a758447f",
   "metadata": {},
   "outputs": [
    {
     "data": {
      "text/plain": [
       "0       0\n",
       "1       1\n",
       "2       0\n",
       "3       1\n",
       "4       1\n",
       "       ..\n",
       "8107    1\n",
       "8108    1\n",
       "8109    1\n",
       "8110    1\n",
       "8111    1\n",
       "Name: class, Length: 8112, dtype: int64"
      ]
     },
     "execution_count": 67,
     "metadata": {},
     "output_type": "execute_result"
    }
   ],
   "source": [
    "y_train_smote"
   ]
  },
  {
   "cell_type": "code",
   "execution_count": 68,
   "id": "ee9c38c8",
   "metadata": {},
   "outputs": [
    {
     "data": {
      "text/plain": [
       "array([[0., 0., 0., ..., 0., 0., 0.],\n",
       "       [1., 1., 0., ..., 0., 0., 0.],\n",
       "       [0., 0., 0., ..., 0., 0., 0.],\n",
       "       ...,\n",
       "       [1., 1., 0., ..., 0., 0., 0.],\n",
       "       [1., 0., 0., ..., 0., 0., 0.],\n",
       "       [0., 0., 0., ..., 0., 0., 0.]], dtype=float32)"
      ]
     },
     "execution_count": 68,
     "metadata": {},
     "output_type": "execute_result"
    }
   ],
   "source": [
    "vectorized_x_test"
   ]
  },
  {
   "cell_type": "code",
   "execution_count": 69,
   "id": "e806fc43",
   "metadata": {},
   "outputs": [
    {
     "data": {
      "text/plain": [
       "3217    0\n",
       "2323    0\n",
       "5529    0\n",
       "7575    1\n",
       "1377    1\n",
       "       ..\n",
       "2368    1\n",
       "9307    0\n",
       "2592    1\n",
       "9456    0\n",
       "1061    0\n",
       "Name: class, Length: 2000, dtype: int64"
      ]
     },
     "execution_count": 69,
     "metadata": {},
     "output_type": "execute_result"
    }
   ],
   "source": [
    "y_test"
   ]
  },
  {
   "cell_type": "markdown",
   "id": "59c195c9",
   "metadata": {},
   "source": [
    "## Model Training and Evaluation "
   ]
  },
  {
   "cell_type": "code",
   "execution_count": 71,
   "id": "88118a14",
   "metadata": {},
   "outputs": [],
   "source": [
    "from sklearn.linear_model import LogisticRegression\n",
    "from sklearn.naive_bayes import MultinomialNB\n",
    "from sklearn.tree import DecisionTreeClassifier\n",
    "from sklearn.ensemble import RandomForestClassifier\n",
    "from sklearn.svm import SVC"
   ]
  },
  {
   "cell_type": "code",
   "execution_count": 72,
   "id": "6ecdd93b",
   "metadata": {},
   "outputs": [],
   "source": [
    "from sklearn.metrics import accuracy_score, f1_score, precision_score, recall_score\n",
    "\n",
    "def training_scores(y_act, y_pred):\n",
    "    acc = round(accuracy_score(y_act, y_pred), 3)\n",
    "    pr = round(precision_score(y_act, y_pred), 3)\n",
    "    rec = round(recall_score(y_act, y_pred), 3)\n",
    "    f1 = round(f1_score(y_act, y_pred), 3)\n",
    "    print(f'Training Scores:\\n\\tAccuracy = {acc}\\n\\tPrecision = {pr}\\n\\tRecall = {rec}\\n\\tF1-Score = {f1}')\n",
    "    \n",
    "def validation_scores(y_act, y_pred):\n",
    "    acc = round(accuracy_score(y_act, y_pred), 3)\n",
    "    pr = round(precision_score(y_act, y_pred), 3)\n",
    "    rec = round(recall_score(y_act, y_pred), 3)\n",
    "    f1 = round(f1_score(y_act, y_pred), 3)\n",
    "    print(f'Testing Scores:\\n\\tAccuracy = {acc}\\n\\tPrecision = {pr}\\n\\tRecall = {rec}\\n\\tF1-Score = {f1}')"
   ]
  },
  {
   "cell_type": "markdown",
   "id": "f43d22e5",
   "metadata": {},
   "source": [
    "### Logistic Regression "
   ]
  },
  {
   "cell_type": "code",
   "execution_count": 73,
   "id": "c07abf3d",
   "metadata": {},
   "outputs": [
    {
     "name": "stdout",
     "output_type": "stream",
     "text": [
      "Training Scores:\n",
      "\tAccuracy = 0.97\n",
      "\tPrecision = 0.984\n",
      "\tRecall = 0.956\n",
      "\tF1-Score = 0.97\n",
      "Testing Scores:\n",
      "\tAccuracy = 0.904\n",
      "\tPrecision = 0.924\n",
      "\tRecall = 0.882\n",
      "\tF1-Score = 0.903\n"
     ]
    }
   ],
   "source": [
    "lr = LogisticRegression()\n",
    "lr.fit(vectorized_x_train_smote, y_train_smote)\n",
    "\n",
    "y_train_pred = lr.predict(vectorized_x_train_smote)\n",
    "\n",
    "y_test_pred = lr.predict(vectorized_x_test)\n",
    "\n",
    "training_scores(y_train_smote, y_train_pred)\n",
    "\n",
    "validation_scores(y_test, y_test_pred)"
   ]
  },
  {
   "cell_type": "markdown",
   "id": "294b5a96",
   "metadata": {},
   "source": [
    "### Naive Bayes "
   ]
  },
  {
   "cell_type": "code",
   "execution_count": 74,
   "id": "2a915d51",
   "metadata": {},
   "outputs": [
    {
     "name": "stdout",
     "output_type": "stream",
     "text": [
      "Training Scores:\n",
      "\tAccuracy = 0.92\n",
      "\tPrecision = 0.901\n",
      "\tRecall = 0.943\n",
      "\tF1-Score = 0.922\n",
      "Testing Scores:\n",
      "\tAccuracy = 0.893\n",
      "\tPrecision = 0.873\n",
      "\tRecall = 0.924\n",
      "\tF1-Score = 0.897\n"
     ]
    }
   ],
   "source": [
    "mnb = MultinomialNB()\n",
    "mnb.fit(vectorized_x_train_smote, y_train_smote)\n",
    "\n",
    "y_train_pred = mnb.predict(vectorized_x_train_smote)\n",
    "\n",
    "y_test_pred = mnb.predict(vectorized_x_test)\n",
    "\n",
    "training_scores(y_train_smote, y_train_pred)\n",
    "\n",
    "validation_scores(y_test, y_test_pred)"
   ]
  },
  {
   "cell_type": "markdown",
   "id": "74ec0e07",
   "metadata": {},
   "source": [
    "### Decision Tree "
   ]
  },
  {
   "cell_type": "code",
   "execution_count": 75,
   "id": "57e68969",
   "metadata": {},
   "outputs": [
    {
     "name": "stdout",
     "output_type": "stream",
     "text": [
      "Training Scores:\n",
      "\tAccuracy = 0.999\n",
      "\tPrecision = 1.0\n",
      "\tRecall = 0.999\n",
      "\tF1-Score = 0.999\n",
      "Testing Scores:\n",
      "\tAccuracy = 0.801\n",
      "\tPrecision = 0.801\n",
      "\tRecall = 0.807\n",
      "\tF1-Score = 0.804\n"
     ]
    }
   ],
   "source": [
    "dt = DecisionTreeClassifier()\n",
    "\n",
    "dt.fit(vectorized_x_train_smote, y_train_smote)\n",
    "\n",
    "y_train_pred = dt.predict(vectorized_x_train_smote)\n",
    "\n",
    "y_test_pred = dt.predict(vectorized_x_test)\n",
    "\n",
    "training_scores(y_train_smote, y_train_pred)\n",
    "\n",
    "validation_scores(y_test, y_test_pred)"
   ]
  },
  {
   "cell_type": "markdown",
   "id": "6d5e9c45",
   "metadata": {},
   "source": [
    "### Random Forest "
   ]
  },
  {
   "cell_type": "code",
   "execution_count": 76,
   "id": "98b32564",
   "metadata": {},
   "outputs": [
    {
     "name": "stdout",
     "output_type": "stream",
     "text": [
      "Training Scores:\n",
      "\tAccuracy = 0.999\n",
      "\tPrecision = 1.0\n",
      "\tRecall = 0.999\n",
      "\tF1-Score = 0.999\n",
      "Testing Scores:\n",
      "\tAccuracy = 0.852\n",
      "\tPrecision = 0.841\n",
      "\tRecall = 0.87\n",
      "\tF1-Score = 0.855\n"
     ]
    }
   ],
   "source": [
    "rf = RandomForestClassifier()\n",
    "\n",
    "rf.fit(vectorized_x_train_smote, y_train_smote)\n",
    "\n",
    "y_train_pred = rf.predict(vectorized_x_train_smote)\n",
    "\n",
    "y_test_pred = rf.predict(vectorized_x_test)\n",
    "\n",
    "training_scores(y_train_smote, y_train_pred)\n",
    "\n",
    "validation_scores(y_test, y_test_pred)"
   ]
  },
  {
   "cell_type": "markdown",
   "id": "755bae18",
   "metadata": {},
   "source": [
    "### Support Vector Machine "
   ]
  },
  {
   "cell_type": "code",
   "execution_count": 77,
   "id": "38589c18",
   "metadata": {},
   "outputs": [
    {
     "name": "stdout",
     "output_type": "stream",
     "text": [
      "Training Scores:\n",
      "\tAccuracy = 0.951\n",
      "\tPrecision = 0.98\n",
      "\tRecall = 0.921\n",
      "\tF1-Score = 0.949\n",
      "Testing Scores:\n",
      "\tAccuracy = 0.895\n",
      "\tPrecision = 0.913\n",
      "\tRecall = 0.875\n",
      "\tF1-Score = 0.894\n"
     ]
    }
   ],
   "source": [
    "svm = SVC()\n",
    "\n",
    "svm.fit(vectorized_x_train_smote, y_train_smote)\n",
    "\n",
    "y_train_pred = svm.predict(vectorized_x_train_smote)\n",
    "\n",
    "y_test_pred = svm.predict(vectorized_x_test)\n",
    "\n",
    "training_scores(y_train_smote, y_train_pred)\n",
    "\n",
    "validation_scores(y_test, y_test_pred)"
   ]
  },
  {
   "cell_type": "code",
   "execution_count": 78,
   "id": "08f63b29",
   "metadata": {},
   "outputs": [],
   "source": [
    "import pickle\n",
    "\n",
    "with open('model.pickle', 'wb') as file:\n",
    "    pickle.dump(lr, file)\n"
   ]
  },
  {
   "cell_type": "code",
   "execution_count": 75,
   "id": "6ee14b8a",
   "metadata": {},
   "outputs": [],
   "source": [
    "import numpy as np\n",
    "import pandas as pd\n",
    "import re\n",
    "import string\n",
    "import pickle"
   ]
  },
  {
   "cell_type": "code",
   "execution_count": 76,
   "id": "13f0c79d-ca50-408f-99e1-0734c415dfd0",
   "metadata": {},
   "outputs": [],
   "source": [
    "def remove_punctuations(text):\n",
    "    for punctuation in string.punctuation:\n",
    "        text = text.replace(punctuation, '')\n",
    "    return text"
   ]
  },
  {
   "cell_type": "code",
   "execution_count": 77,
   "id": "b42549ac-c81d-4607-9db9-732f73bc1c9c",
   "metadata": {},
   "outputs": [],
   "source": [
    "with open('model.pickle', 'rb') as f:\n",
    "    model = pickle.load(f)"
   ]
  },
  {
   "cell_type": "code",
   "execution_count": 78,
   "id": "ad41d452-374b-44a4-8b9b-244b291797cd",
   "metadata": {},
   "outputs": [],
   "source": [
    "with open('../static/model/corpora/stopwords/english', 'r') as file:\n",
    "    sw = file.read().splitlines()"
   ]
  },
  {
   "cell_type": "code",
   "execution_count": 79,
   "id": "6acec068-7eef-45fe-b8a2-8dcad73bbba6",
   "metadata": {},
   "outputs": [],
   "source": [
    "vocab = pd.read_csv('vocabulary.txt', header=None)\n",
    "tokens = vocab[0].tolist()"
   ]
  },
  {
   "cell_type": "code",
   "execution_count": 80,
   "id": "e43529f6-8ebc-4fc8-a34d-3c543238fd06",
   "metadata": {},
   "outputs": [],
   "source": [
    "from nltk.stem import PorterStemmer\n",
    "ps = PorterStemmer()"
   ]
  },
  {
   "cell_type": "code",
   "execution_count": 81,
   "id": "c39751c8-e358-4934-acdd-a53f8930ceed",
   "metadata": {},
   "outputs": [
    {
     "name": "stderr",
     "output_type": "stream",
     "text": [
      "<>:6: SyntaxWarning: invalid escape sequence '\\d'\n",
      "<>:6: SyntaxWarning: invalid escape sequence '\\d'\n",
      "/tmp/ipykernel_36480/3977077925.py:6: SyntaxWarning: invalid escape sequence '\\d'\n",
      "  data[\"text\"] = data['text'].str.replace('\\d+', '', regex=True)\n"
     ]
    }
   ],
   "source": [
    "def preprocessing(text):\n",
    "    data = pd.DataFrame([text], columns=['text'])\n",
    "    data[\"text\"] = data[\"text\"].apply(lambda x: \" \".join(x.lower() for x in x.split()))\n",
    "    data[\"text\"] = data['text'].apply(lambda x: \" \".join(re.sub(r'^https?:\\/\\/.*[\\r\\n]*', '', x, flags=re.MULTILINE) for x in x.split()))\n",
    "    data[\"text\"] = data[\"text\"].apply(remove_punctuations)\n",
    "    data[\"text\"] = data['text'].str.replace('\\d+', '', regex=True)\n",
    "    data[\"text\"] = data[\"text\"].apply(lambda x: \" \".join(x for x in x.split() if x not in sw))\n",
    "    data[\"text\"] = data[\"text\"].apply(lambda x: \" \".join(ps.stem(x) for x in x.split()))\n",
    "    return data[\"text\"]"
   ]
  },
  {
   "cell_type": "code",
   "execution_count": 82,
   "id": "61ac396c-74d9-48f1-8502-6d80dc3c9230",
   "metadata": {},
   "outputs": [],
   "source": [
    "def vectorizer(ds, vocabulary):\n",
    "    vectorized_lst = []\n",
    "    \n",
    "    for sentence in ds:\n",
    "        sentence_lst = np.zeros(len(vocabulary))\n",
    "        \n",
    "        for i in range(len(vocabulary)):\n",
    "            if vocabulary[i] in sentence.split():\n",
    "                sentence_lst[i] = 1\n",
    "                \n",
    "        vectorized_lst.append(sentence_lst)\n",
    "        \n",
    "    vectorized_lst_new = np.asarray(vectorized_lst, dtype=np.float32)\n",
    "    \n",
    "    return vectorized_lst_new"
   ]
  },
  {
   "cell_type": "code",
   "execution_count": 83,
   "id": "4b851d08-41f4-414b-871c-1cfcdf737dd8",
   "metadata": {},
   "outputs": [],
   "source": [
    "def get_prediction(vectorized_text):\n",
    "    prediction = model.predict(vectorized_text)\n",
    "    if prediction == 1:\n",
    "        return 'Suicidal message'\n",
    "    else:\n",
    "        return 'Non - suicidal message'"
   ]
  },
  {
   "cell_type": "code",
   "execution_count": 84,
   "id": "d23a95da-4cf7-4d95-b480-6a3a131b5800",
   "metadata": {},
   "outputs": [
    {
     "data": {
      "text/plain": [
       "'Suicidal message'"
      ]
     },
     "execution_count": 84,
     "metadata": {},
     "output_type": "execute_result"
    }
   ],
   "source": [
    "txt = \"i am tired of this life\"\n",
    "preprocessed_txt = preprocessing(txt)\n",
    "vectorized_txt = vectorizer(preprocessed_txt, tokens)\n",
    "prediction = get_prediction(vectorized_txt)\n",
    "prediction"
   ]
  },
  {
   "cell_type": "code",
   "execution_count": null,
   "id": "45a3156f-814e-4e46-a21b-dc05b26c5c4a",
   "metadata": {},
   "outputs": [],
   "source": []
  },
  {
   "cell_type": "code",
   "execution_count": null,
   "id": "cf0b18dd",
   "metadata": {},
   "outputs": [],
   "source": []
  },
  {
   "cell_type": "code",
   "execution_count": null,
   "id": "bcad0de2",
   "metadata": {},
   "outputs": [],
   "source": []
  }
 ],
 "metadata": {
  "kernelspec": {
   "display_name": "Python 3",
   "language": "python",
   "name": "python3"
  },
  "language_info": {
   "codemirror_mode": {
    "name": "ipython",
    "version": 3
   },
   "file_extension": ".py",
   "mimetype": "text/x-python",
   "name": "python",
   "nbconvert_exporter": "python",
   "pygments_lexer": "ipython3",
   "version": "3.11.10"
  }
 },
 "nbformat": 4,
 "nbformat_minor": 5
}
